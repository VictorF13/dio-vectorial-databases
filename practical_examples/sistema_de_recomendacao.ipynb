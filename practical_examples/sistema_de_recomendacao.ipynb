{
 "cells": [
  {
   "cell_type": "markdown",
   "id": "2bb61474",
   "metadata": {},
   "source": [
    "# Bibliotecas"
   ]
  },
  {
   "cell_type": "code",
   "execution_count": null,
   "id": "f9562455",
   "metadata": {},
   "outputs": [],
   "source": [
    "from langchain.embeddings import SentenceTransformerEmbeddings\n",
    "from langchain.vectorstores import FAISS"
   ]
  },
  {
   "cell_type": "markdown",
   "id": "1a53594b",
   "metadata": {},
   "source": [
    "# Problema\n",
    "Temos um conjunto de produtos e suas descrições, e queremos recomendar produtos semelhantes ao usuário uma vez que ele esteja na página daquele produto."
   ]
  },
  {
   "cell_type": "markdown",
   "id": "763ee7a5",
   "metadata": {},
   "source": [
    "## Dados Base"
   ]
  },
  {
   "cell_type": "code",
   "execution_count": null,
   "id": "fef1a698",
   "metadata": {},
   "outputs": [],
   "source": [
    "products = [\n",
    "    {\n",
    "        \"name\": \"Noise-Cancelling Headphones\",\n",
    "        \"desc\": \"Wireless over-ear noise-cancelling headphones with 30-hour battery life.\"\n",
    "    },\n",
    "    {\n",
    "        \"name\": \"Bluetooth Speaker\",\n",
    "        \"desc\": \"Portable Bluetooth speaker with rich bass and 10-hour playtime.\"\n",
    "    },\n",
    "    {\n",
    "        \"name\": \"Wireless Earbuds\",\n",
    "        \"desc\": \"In-ear wireless earbuds with noise isolation and charging case.\"\n",
    "    },\n",
    "    {\n",
    "        \"name\": \"Gaming Headset\",\n",
    "        \"desc\": \"Over-ear gaming headset with surround sound and noise-cancel mic.\"\n",
    "    },\n",
    "    {\n",
    "        \"name\": \"Smartwatch\",\n",
    "        \"desc\": \"Water-resistant smartwatch with heart-rate monitor and GPS.\"\n",
    "    },\n",
    "    {\n",
    "        \"name\": \"Portable Charger\",\n",
    "        \"desc\": \"10 000 mAh USB-C portable charger with fast-charging support.\"\n",
    "    },\n",
    "    {\n",
    "        \"name\": \"Wireless Keyboard\",\n",
    "        \"desc\": \"Compact Bluetooth keyboard with quiet scissor-switch keys.\"\n",
    "    },\n",
    "    {\n",
    "        \"name\": \"4K Webcam\",\n",
    "        \"desc\": \"1080p USB webcam with built-in microphone and low-light correction.\"\n",
    "    },\n",
    "    {\n",
    "        \"name\": \"USB-C Hub\",\n",
    "        \"desc\": \"Multi-port USB-C hub with HDMI, Ethernet, USB-A, and SD card reader.\"\n",
    "    },\n",
    "    {\n",
    "        \"name\": \"E-Reader\",\n",
    "        \"desc\": \"6-inch glare-free e-ink e-reader with adjustable warm light and 8 GB storage.\"\n",
    "    },\n",
    "]"
   ]
  },
  {
   "cell_type": "markdown",
   "id": "b06ac64c",
   "metadata": {},
   "source": [
    "# Solução (Busca por Similaridade)"
   ]
  },
  {
   "cell_type": "markdown",
   "id": "490ec2d1",
   "metadata": {},
   "source": [
    "## Carregando Modelo\n",
    "Escolhemos o `all-miniLM-L6-v2` pois é pequeno e funciona bem para textos em inglês."
   ]
  },
  {
   "cell_type": "code",
   "execution_count": null,
   "id": "f472d295",
   "metadata": {},
   "outputs": [],
   "source": [
    "# Setando o modelo\n",
    "model_name = \"all-MiniLM-L6-v2\"\n",
    "embedder = SentenceTransformerEmbeddings(model_name=model_name)"
   ]
  },
  {
   "cell_type": "markdown",
   "id": "195cd63a",
   "metadata": {},
   "source": [
    "## Construindo o Banco Vetorial"
   ]
  },
  {
   "cell_type": "markdown",
   "id": "ca118d01",
   "metadata": {},
   "source": [
    "### Separando Informações"
   ]
  },
  {
   "cell_type": "code",
   "execution_count": null,
   "id": "fe0e61ba",
   "metadata": {},
   "outputs": [],
   "source": [
    "# Capturando somente as descrições\n",
    "texts = [product[\"desc\"] for product in products]"
   ]
  },
  {
   "cell_type": "code",
   "execution_count": null,
   "id": "4782952f",
   "metadata": {},
   "outputs": [],
   "source": [
    "for text in texts:\n",
    "    print(text) # Mostrando os textos"
   ]
  },
  {
   "cell_type": "code",
   "execution_count": null,
   "id": "c567794b",
   "metadata": {},
   "outputs": [],
   "source": [
    "# Capturando os metadados\n",
    "metadatas = [\n",
    "    {\n",
    "        \"name\": product[\"name\"],\n",
    "        \"index\": i\n",
    "    }\n",
    "    for i, product\n",
    "    in enumerate(products)\n",
    "]"
   ]
  },
  {
   "cell_type": "code",
   "execution_count": null,
   "id": "16047980",
   "metadata": {},
   "outputs": [],
   "source": [
    "for metadata in metadatas:\n",
    "    print(metadata) # Mostrando o índice e nome"
   ]
  },
  {
   "cell_type": "markdown",
   "id": "7e7c51c1",
   "metadata": {},
   "source": [
    "### Criando Embeddings"
   ]
  },
  {
   "cell_type": "code",
   "execution_count": null,
   "id": "6d331ed9",
   "metadata": {},
   "outputs": [],
   "source": [
    "# Construindo com o FAISS no LangChain\n",
    "vectordb = FAISS.from_texts(texts, embedding=embedder, metadatas=metadatas)"
   ]
  },
  {
   "cell_type": "markdown",
   "id": "3276333c",
   "metadata": {},
   "source": [
    "## Testando a Recomendação\n",
    "Agora vamos assumir que estamos na página do produto 0 (Headphone com Cancelamento de Ruído). Podemos checar qual outro produto tem mais semelhança."
   ]
  },
  {
   "cell_type": "code",
   "execution_count": null,
   "id": "c920c1f3",
   "metadata": {},
   "outputs": [],
   "source": [
    "# Capturando as informações da \"página atual\"\n",
    "query_id = 0 # Índice da consulta\n",
    "query_name = products[query_id][\"name\"]\n",
    "query_text = products[query_id][\"desc\"]"
   ]
  },
  {
   "cell_type": "code",
   "execution_count": null,
   "id": "6197449a",
   "metadata": {},
   "outputs": [],
   "source": [
    "# Fazendo a busca por similaridade\n",
    "k_recs = 3 # queremos os 3 mais semelhantes\n",
    "raw_results = vectordb.similarity_search(query_text, k=k_recs+1) # + 1 pois o mais similar é ele próprio"
   ]
  },
  {
   "cell_type": "code",
   "execution_count": null,
   "id": "62e318cf",
   "metadata": {},
   "outputs": [],
   "source": [
    "# Resultados que não são o próprio produto\n",
    "results = [\n",
    "    product\n",
    "    for product\n",
    "    in raw_results\n",
    "    if product.metadata[\"name\"] != query_name\n",
    "]"
   ]
  },
  {
   "cell_type": "code",
   "execution_count": null,
   "id": "9ba5bd03",
   "metadata": {},
   "outputs": [],
   "source": [
    "# Mostrando as recomendações\n",
    "print(f\"Recommendations for: {query_name}\\n\")\n",
    "for rank, doc in enumerate(results, start=1):\n",
    "    print(f\"{rank}. {doc.metadata['name']} — {doc.page_content}\")"
   ]
  }
 ],
 "metadata": {
  "kernelspec": {
   "display_name": "dio-vectorial-databases",
   "language": "python",
   "name": "python3"
  },
  "language_info": {
   "codemirror_mode": {
    "name": "ipython",
    "version": 3
   },
   "file_extension": ".py",
   "mimetype": "text/x-python",
   "name": "python",
   "nbconvert_exporter": "python",
   "pygments_lexer": "ipython3",
   "version": "3.12.3"
  }
 },
 "nbformat": 4,
 "nbformat_minor": 5
}
