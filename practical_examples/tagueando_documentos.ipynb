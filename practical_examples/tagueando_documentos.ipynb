{
 "cells": [
  {
   "cell_type": "markdown",
   "id": "69f2e873",
   "metadata": {},
   "source": [
    "# Bibliotecas"
   ]
  },
  {
   "cell_type": "code",
   "execution_count": null,
   "id": "d4b2ee2a",
   "metadata": {},
   "outputs": [],
   "source": [
    "import os\n",
    "import json\n",
    "\n",
    "from sklearn.cluster import KMeans\n",
    "from langchain_openai import ChatOpenAI, OpenAIEmbeddings\n",
    "from langchain_core.prompts import PromptTemplate\n",
    "\n",
    "from dotenv import load_dotenv"
   ]
  },
  {
   "cell_type": "code",
   "execution_count": null,
   "id": "41e24fbc",
   "metadata": {},
   "outputs": [],
   "source": [
    "# Carrega as variáveis de ambiente\n",
    "load_dotenv()\n",
    "\n",
    "# Verifica se a OPENAI_API_KEY está configurada\n",
    "assert \"OPENAI_API_KEY\" in os.environ, \"Defina a variável de ambiente OPENAI_API_KEY!\"\n",
    "\n",
    "# Guarda a API key (opcional, já está no env)\n",
    "openai_api_key = os.getenv(\"OPENAI_API_KEY\")"
   ]
  },
  {
   "cell_type": "markdown",
   "id": "d7209ebc",
   "metadata": {},
   "source": [
    "# Problema"
   ]
  },
  {
   "cell_type": "markdown",
   "id": "1a9b0bac",
   "metadata": {},
   "source": [
    "Temos diversos documentos falando sobre diversos tópicos. O objetivo é agrupar esses documentos por temáticas.\n",
    "\n",
    "Aqui vamos usar LangChain (framework comum) com modelos da OpenAI para fazer o embedding do banco vetorial, e também para criar um label para os grupos."
   ]
  },
  {
   "cell_type": "markdown",
   "id": "8037aec5",
   "metadata": {},
   "source": [
    "# Dados Base"
   ]
  },
  {
   "cell_type": "code",
   "execution_count": null,
   "id": "c70fb506",
   "metadata": {},
   "outputs": [],
   "source": [
    "docs = [\n",
    "    \"Python vs JavaScript: An in-depth comparison of two programming languages.\",\n",
    "    \"10 tips for Python coding beginners.\",\n",
    "    \"How to bake the perfect sourdough bread at home.\",\n",
    "    \"Mastering JavaScript closures and callbacks.\",\n",
    "    \"Sourdough starter maintenance and bread recipes.\",\n",
    "]"
   ]
  },
  {
   "cell_type": "markdown",
   "id": "f723ece9",
   "metadata": {},
   "source": [
    "# Solução\n",
    "A ideia vai ser:\n",
    "1. Transformar os documentos num banco vetorial (embeddings)\n",
    "2. Fazer uma clusterização simples nos vetores (k-means)\n",
    "3. Nomear os clusters com uma LLM"
   ]
  },
  {
   "cell_type": "markdown",
   "id": "ad239e15",
   "metadata": {},
   "source": [
    "## Carregando modelos\n",
    "Vamos usar:\n",
    "- `gpt-4o-mini (OpenAI)` para rodar via API o labeling.\n",
    "- `text-embedding-3-small (OpenAI)` para fazer o embedding."
   ]
  },
  {
   "cell_type": "code",
   "execution_count": null,
   "id": "6bc0f294",
   "metadata": {},
   "outputs": [],
   "source": [
    "# Inicializando o LLM para rotular clusters\n",
    "llm = ChatOpenAI(model_name=\"gpt-4o-mini\", temperature=0.0)"
   ]
  },
  {
   "cell_type": "code",
   "execution_count": null,
   "id": "a5d6039b",
   "metadata": {},
   "outputs": [],
   "source": [
    "# Inicializando embeddings da OpenAI\n",
    "embedding_model = OpenAIEmbeddings(model=\"text-embedding-3-small\")"
   ]
  },
  {
   "cell_type": "markdown",
   "id": "e34ff372",
   "metadata": {},
   "source": [
    "## Construindo o Banco Vetorial"
   ]
  },
  {
   "cell_type": "code",
   "execution_count": null,
   "id": "6fa154d3",
   "metadata": {},
   "outputs": [],
   "source": [
    "doc_vectors = embedding_model.embed_documents(docs)\n",
    "for vector in doc_vectors:\n",
    "    print(vector)  # São um vetor para cada documento"
   ]
  },
  {
   "cell_type": "markdown",
   "id": "883f6dfc",
   "metadata": {},
   "source": [
    "## Clusterizando com K-Means\n",
    "Vamos clusterizar os vetores em 2 grupos."
   ]
  },
  {
   "cell_type": "code",
   "execution_count": null,
   "id": "f7301bcb",
   "metadata": {},
   "outputs": [],
   "source": [
    "# Rodando o k-means\n",
    "num_clusters = 2  # Assumindo que já sabemos que há 2 grupos\n",
    "kmeans = KMeans(n_clusters=num_clusters, random_state=42)\n",
    "labels = kmeans.fit_predict(doc_vectors)"
   ]
  },
  {
   "cell_type": "code",
   "execution_count": null,
   "id": "18a2d044",
   "metadata": {},
   "outputs": [],
   "source": [
    "# Montando o resultado\n",
    "clusters = {i: [] for i in range(num_clusters)}\n",
    "for doc, lab in zip(docs, labels):\n",
    "    clusters[lab].append(doc)\n",
    "\n",
    "print(\"Clusters brutos:\")\n",
    "print(json.dumps(clusters, indent=4))  # Só pra ficar mais legível"
   ]
  },
  {
   "cell_type": "markdown",
   "id": "5ca703de",
   "metadata": {},
   "source": [
    "## Rotulando os Clusters\n"
   ]
  },
  {
   "cell_type": "code",
   "execution_count": null,
   "id": "70a37ef4",
   "metadata": {},
   "outputs": [],
   "source": [
    "prompt = PromptTemplate.from_template(\n",
    "    \"Here are some documents about the same topic:\\n\\n\"\n",
    "    \"{documents}\\n\\n\"\n",
    "    \"Provide a short label with one or two words, \"\n",
    "    \"describing their common theme, all lower case and with only letters and space:\"\n",
    ")"
   ]
  },
  {
   "cell_type": "code",
   "execution_count": null,
   "id": "0fb03b7f",
   "metadata": {},
   "outputs": [],
   "source": [
    "# Setando a corrente\n",
    "chain = prompt | llm"
   ]
  },
  {
   "cell_type": "code",
   "execution_count": null,
   "id": "c6d6fd3e",
   "metadata": {},
   "outputs": [],
   "source": [
    "# Fazendo o labeling de cada cluster e substituindo o nome\n",
    "labeled_clusters = {}\n",
    "for cid, docs_in_cluster in clusters.items():\n",
    "    # join cluster docs into bullet list\n",
    "    docs_text = \"\\n\".join(f\"- {d}\" for d in docs_in_cluster)\n",
    "    label = chain.invoke(input={\"documents\": docs_text}).content\n",
    "    labeled_clusters[label] = clusters[cid]\n",
    "    print(f\"Cluster {cid} label: {label}\")"
   ]
  },
  {
   "cell_type": "code",
   "execution_count": null,
   "id": "321cfc9a",
   "metadata": {},
   "outputs": [],
   "source": [
    "print(\"Clusters rotulados:\")\n",
    "print(json.dumps(labeled_clusters, indent=4))"
   ]
  }
 ],
 "metadata": {
  "kernelspec": {
   "display_name": "dio-vectorial-databases",
   "language": "python",
   "name": "python3"
  },
  "language_info": {
   "codemirror_mode": {
    "name": "ipython",
    "version": 3
   },
   "file_extension": ".py",
   "mimetype": "text/x-python",
   "name": "python",
   "nbconvert_exporter": "python",
   "pygments_lexer": "ipython3",
   "version": "3.12.3"
  }
 },
 "nbformat": 4,
 "nbformat_minor": 5
}
