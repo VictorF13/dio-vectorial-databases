{
  "cells": [
    {
      "cell_type": "markdown",
      "metadata": {},
      "source": [
        "# Bibliotecas"
      ]
    },
    {
      "cell_type": "code",
      "execution_count": null,
      "metadata": {},
      "outputs": [],
      "source": [
        "import os\n",
        "import json\n",
        "\n",
        "from huggingface_hub import InferenceClient\n",
        "from sklearn.cluster import KMeans\n",
        "from langchain.embeddings import HuggingFaceEmbeddings\n",
        "from langchain_core.prompts import PromptTemplate\n",
        "\n",
        "from dotenv import load_dotenv"
      ]
    },
    {
      "cell_type": "code",
      "execution_count": null,
      "id": "41e24fbc",
      "metadata": {},
      "outputs": [],
      "source": [
        "# Carrega as variáveis em `.env`\n",
        "load_dotenv()\n",
        "\n",
        "# Verifica se o token está configurado\n",
        "assert \"HF_API_TOKEN\" in os.environ, \"Defina a variável de ambiente HF_API_TOKEN!\"\n",
        "\n",
        "# Setando variável com o token\n",
        "hf_token = os.getenv(\"HF_API_TOKEN\")"
      ]
    },
    {
      "cell_type": "markdown",
      "metadata": {},
      "source": [
        "# Problema"
      ]
    },
    {
      "cell_type": "markdown",
      "id": "1a9b0bac",
      "metadata": {},
      "source": [
        "Temos diversos documentos falando sobre diversos tópicos. O objetivo é agrupar esses documentos por temáticas.\n",
        "\n",
        "Aqui vamos usar LangChain (framework comum) para fazer o embedding do banco vetorial, e usaremos o HuggingFaceHub para utilizar uma LLM para criar um label para os grupos."
      ]
    },
    {
      "cell_type": "markdown",
      "id": "8037aec5",
      "metadata": {},
      "source": [
        "# Dados Base"
      ]
    },
    {
      "cell_type": "code",
      "execution_count": null,
      "metadata": {},
      "outputs": [],
      "source": [
        "docs = [\n",
        "    \"Python vs JavaScript: An in-depth comparison of two programming languages.\",\n",
        "    \"10 tips for Python coding beginners.\",\n",
        "    \"How to bake the perfect sourdough bread at home.\",\n",
        "    \"Mastering JavaScript closures and callbacks.\",\n",
        "    \"Sourdough starter maintenance and bread recipes.\"\n",
        "]\n"
      ]
    },
    {
      "cell_type": "markdown",
      "metadata": {},
      "source": [
        "# Solução\n",
        "A ideia vai ser:\n",
        "1. Transformar os documentos num banco vetorial (embeddings)\n",
        "2. Fazer uma clusterização simples nos vetores (k-means)\n",
        "3. Nomear os clusters com uma LLM"
      ]
    },
    {
      "cell_type": "markdown",
      "id": "ad239e15",
      "metadata": {},
      "source": [
        "## Carregando modelos\n",
        "Vamos usar:\n",
        "- `HuggingFaceTB/SmolLM3-3B` para rodar via API o labeling.\n",
        "- `sentence-transformers/all-MiniLM-L6-v2` para fazer o embedding."
      ]
    },
    {
      "cell_type": "code",
      "execution_count": null,
      "id": "6bc0f294",
      "metadata": {},
      "outputs": [],
      "source": [
        "\n",
        "client = InferenceClient(\n",
        "    model=\"HuggingFaceTB/SmolLM3-3B\",\n",
        "    provider=\"hf-inference\",\n",
        "    api_key=os.environ[\"HF_API_TOKEN\"],\n",
        ")"
      ]
    },
    {
      "cell_type": "code",
      "execution_count": null,
      "metadata": {},
      "outputs": [],
      "source": [
        "embedding_model = HuggingFaceEmbeddings(\n",
        "    model_name=\"sentence-transformers/all-MiniLM-L6-v2\"\n",
        ")"
      ]
    },
    {
      "cell_type": "markdown",
      "id": "e34ff372",
      "metadata": {},
      "source": [
        "## Construindo o Banco Vetorial"
      ]
    },
    {
      "cell_type": "code",
      "execution_count": null,
      "id": "6fa154d3",
      "metadata": {},
      "outputs": [],
      "source": [
        "doc_vectors = embedding_model.embed_documents(docs)\n",
        "for vector in doc_vectors:\n",
        "    print(vector) # São um vetor para cada documento"
      ]
    },
    {
      "cell_type": "markdown",
      "metadata": {},
      "source": [
        "## Clusterizando com K-Means\n",
        "Vamos clusterizar os vetores em 2 grupos."
      ]
    },
    {
      "cell_type": "code",
      "execution_count": null,
      "metadata": {},
      "outputs": [],
      "source": [
        "# Rodando o k-means\n",
        "num_clusters = 2 # Assumindo que já sabemos que há 2 grupos\n",
        "kmeans = KMeans(n_clusters=num_clusters, random_state=42)\n",
        "labels = kmeans.fit_predict(doc_vectors)"
      ]
    },
    {
      "cell_type": "code",
      "execution_count": null,
      "metadata": {},
      "outputs": [],
      "source": [
        "# Montando o resultado\n",
        "clusters = {i: [] for i in range(num_clusters)}\n",
        "for doc, lab in zip(docs, labels):\n",
        "    clusters[lab].append(doc)\n",
        "\n",
        "print(\"Clusters brutos:\")\n",
        "print(json.dumps(clusters, indent=4)) # Só pra ficar mais legível\n"
      ]
    },
    {
      "cell_type": "markdown",
      "metadata": {},
      "source": [
        "## Rotulando os Clusters\n"
      ]
    },
    {
      "cell_type": "code",
      "execution_count": null,
      "id": "70a37ef4",
      "metadata": {},
      "outputs": [],
      "source": [
        "prompt = PromptTemplate.from_template(\n",
        "    \"Here are some documents about the same topic:\\n\\n\"\n",
        "    \"{documents}\\n\\n\"\n",
        "    \"Provide a short label with one or two words, \"\n",
        "    \"describing their common theme, all lower case and with only letters and space:\"\n",
        ")"
      ]
    },
    {
      "cell_type": "code",
      "execution_count": null,
      "id": "c6d6fd3e",
      "metadata": {},
      "outputs": [],
      "source": [
        "labeled_clusters = {}\n",
        "for cid, docs_in_cluster in clusters.items():\n",
        "    # join cluster docs into bullet list\n",
        "    docs_text = \"\\n\".join(f\"- {d}\" for d in docs_in_cluster)\n",
        "    full_label = client.chat.completions.create(\n",
        "        messages=[\n",
        "            {\n",
        "                \"role\": \"user\",\n",
        "                \"content\": prompt.invoke({\"documents\": docs_text}).to_string()\n",
        "            }\n",
        "        ]\n",
        "    ).choices[0].message.content\n",
        "    label = full_label.split(\"</think>\")[1].strip()\n",
        "    labeled_clusters[label] = clusters[cid]\n",
        "    print(f\"Cluster {cid} label: {label}\")"
      ]
    },
    {
      "cell_type": "code",
      "execution_count": null,
      "id": "321cfc9a",
      "metadata": {},
      "outputs": [],
      "source": [
        "print(\"Clusters rotulados:\")\n",
        "print(json.dumps(labeled_clusters, indent=4))"
      ]
    }
  ],
  "metadata": {
    "kernelspec": {
      "display_name": "dio-vectorial-databases",
      "language": "python",
      "name": "python3"
    },
    "language_info": {
      "codemirror_mode": {
        "name": "ipython",
        "version": 3
      },
      "file_extension": ".py",
      "mimetype": "text/x-python",
      "name": "python",
      "nbconvert_exporter": "python",
      "pygments_lexer": "ipython3",
      "version": "3.12.3"
    }
  },
  "nbformat": 4,
  "nbformat_minor": 5
}
