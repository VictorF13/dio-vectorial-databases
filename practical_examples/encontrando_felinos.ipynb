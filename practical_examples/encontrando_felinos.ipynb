{
 "cells": [
  {
   "cell_type": "markdown",
   "metadata": {
    "id": "gwRtD_iUETuT"
   },
   "source": [
    "# Bibliotecas"
   ]
  },
  {
   "cell_type": "code",
   "execution_count": null,
   "metadata": {
    "id": "Ib2QGKJmEfiF"
   },
   "outputs": [],
   "source": [
    "from sentence_transformers import SentenceTransformer, CrossEncoder\n",
    "import numpy as np\n",
    "import faiss"
   ]
  },
  {
   "cell_type": "markdown",
   "metadata": {
    "id": "21CZMfLtFU4b"
   },
   "source": [
    "# Problema"
   ]
  },
  {
   "cell_type": "markdown",
   "metadata": {
    "id": "ntiw21-5FUbB"
   },
   "source": [
    "Temos textos com breves descrições de animais e metadados mostrando informações de cobertura (pelo, penas, pele, escamas), e queremos encontrar, destes, os felinos."
   ]
  },
  {
   "cell_type": "markdown",
   "metadata": {
    "id": "_JKsRNyhEITl"
   },
   "source": [
    "## Dados Base"
   ]
  },
  {
   "cell_type": "markdown",
   "metadata": {
    "id": "UF5Vlr5vdfLv"
   },
   "source": [
    "Nos dados de exemplo, temos 5 felinos dentre 20 animais distintos."
   ]
  },
  {
   "cell_type": "code",
   "execution_count": null,
   "metadata": {
    "id": "_algc_g2EJtb"
   },
   "outputs": [],
   "source": [
    "info_animais = [\n",
    "    \"Leões são quadrúpedes musculosos com pelagem curta e dourada, têm presas afiadas e caçam em grupos na savana africana.\",\n",
    "    \"Tigres são felinos solitários e robustos, quadrúpedes de pelagem listrada e presas poderosas, que habitam florestas tropicais e pântanos.\",\n",
    "    \"Guepardos são quadrúpedes esguios com pelagem amarelada pontilhada de manchas, garras semi-retráteis e corpo adaptado à corrida em planícies abertas.\",\n",
    "    \"Leopardos são felinos quadrúpedes ágeis com pelagem amarelada estampada por rosetas, arrastam presas para galhos de árvores e têm presas retráteis.\",\n",
    "    \"Gatos domésticos são quadrúpedes pequenos, de pelagens variadas e macias, com dentes caninos afiados e comportamento muitas vezes noturno.\",\n",
    "    \"Cachorros são quadrúpedes domesticados, exibem pelagem que varia de curta a longa, têm dentes caninos pronunciados e são altamente sociais.\",\n",
    "    \"Elefantes são mamíferos quadrúpedes enormes, com pele espessa quase sem pelos, presas de marfim e tromba versátil, movem-se entre terra e poças d'água.\",\n",
    "    \"Cavalos são quadrúpedes elegantes de pelagem curta e crina densa, cascos resistentes e dentes molares fortes, usados para montaria e tração.\",\n",
    "    \"Girafas são quadrúpedes extremamente altos, com manchas de pelagem que ajudam na camuflagem e longos pescoços, pastam em copas de árvores baixas.\",\n",
    "    \"Zebras são quadrúpedes com pelagem listrada em preto e branco, pelagem curta, cascos duros e vivem em bandos nas planícies africanas.\",\n",
    "    \"Rinocerontes são quadrúpedes corpulentos com pele grossa e um ou dois chifres de queratina, pastam em savanas e florestas tropicais.\",\n",
    "    \"Hipopótamos são quadrúpedes semi-aquáticos de pele lisa e grossa, com presas fortes, passam grande parte do dia submersos em rios e lagos.\",\n",
    "    \"Ursos são quadrúpedes robustos, com pelagem densa, garras afiadas e dentes caninos grandes, percorrendo florestas e montanhas.\",\n",
    "    \"Crocodilos são répteis quadrúpedes de pele escamosa, mandíbulas poderosas repletas de dentes pontiagudos, emboscam presas próximas à água.\",\n",
    "    \"Golfinhos são mamíferos aquáticos de corpo hidrodinâmico, sem pelos, com nadadeiras e dentes cônicos, nadam em grupos altamente sociais.\",\n",
    "    \"Baleias-azuis são mamíferos marinhos gigantes, sem pelos, com corpo alongado e nadadeiras largas, filtram krill com suas barbatanas.\",\n",
    "    \"Tubarões-brancos são peixes cartilaginosos de pele áspera, corpo fusiforme e fileiras de dentes triangulares afiados, caçam em mar aberto.\",\n",
    "    \"Águias são aves de rapina bípedes, com asas largas e penas resistentes, bico curvo forte e garras afiadas, caçam em grandes altitudes.\",\n",
    "    \"Pinguins-imperadores são aves aquáticas bípedes, com plumagem densa e oleosa, asas transformadas em nadadeiras e bico resistente, vivem no gelo.\",\n",
    "    \"Papagaios são aves tropicais bípedes, com plumagem colorida, bico curvo forte e patas com dedos opositores, imitam sons do ambiente.\",\n",
    "]"
   ]
  },
  {
   "cell_type": "code",
   "execution_count": null,
   "metadata": {
    "id": "R-D0N3GpESaA"
   },
   "outputs": [],
   "source": [
    "metadados_animais = [\n",
    "    {\"cobertura\": \"pelo\"},\n",
    "    {\"cobertura\": \"pelo\"},\n",
    "    {\"cobertura\": \"pelo\"},\n",
    "    {\"cobertura\": \"pelo\"},\n",
    "    {\"cobertura\": \"pelo\"},\n",
    "    {\"cobertura\": \"pelo\"},\n",
    "    {\"cobertura\": \"pele\"},\n",
    "    {\"cobertura\": \"pelo\"},\n",
    "    {\"cobertura\": \"pelo\"},\n",
    "    {\"cobertura\": \"pelo\"},\n",
    "    {\"cobertura\": \"pele\"},\n",
    "    {\"cobertura\": \"pele\"},\n",
    "    {\"cobertura\": \"pelo\"},\n",
    "    {\"cobertura\": \"escamas\"},\n",
    "    {\"cobertura\": \"pele\"},\n",
    "    {\"cobertura\": \"pele\"},\n",
    "    {\"cobertura\": \"pele\"},\n",
    "    {\"cobertura\": \"penas\"},\n",
    "    {\"cobertura\": \"penas\"},\n",
    "    {\"cobertura\": \"penas\"},\n",
    "    {\"cobertura\": \"penas\"},\n",
    "]"
   ]
  },
  {
   "cell_type": "markdown",
   "metadata": {
    "id": "qZsaAu_GE3oV"
   },
   "source": [
    "# Solução (Busca Semântica Vetorial)"
   ]
  },
  {
   "cell_type": "markdown",
   "metadata": {
    "id": "nt3lLO1bF19d"
   },
   "source": [
    "## Carregando Modelos"
   ]
  },
  {
   "cell_type": "code",
   "execution_count": null,
   "metadata": {
    "id": "NR0ReQTVF6A-"
   },
   "outputs": [],
   "source": [
    "# Escolhido por funcionar bem com português e ser pequeno\n",
    "modelo = SentenceTransformer(\"paraphrase-multilingual-mpnet-base-v2\")"
   ]
  },
  {
   "cell_type": "code",
   "execution_count": null,
   "metadata": {
    "id": "90pSDtojF9eh"
   },
   "outputs": [],
   "source": [
    "# Modelo pequeno e rápido de encoding cruzado\n",
    "cross_encoder = CrossEncoder(\"cross-encoder/ms-marco-MiniLM-L-12-v2\")"
   ]
  },
  {
   "cell_type": "markdown",
   "metadata": {
    "id": "32KD7IzJGI5c"
   },
   "source": [
    "## Construindo Banco Vetorial"
   ]
  },
  {
   "cell_type": "markdown",
   "metadata": {
    "id": "CwJxmlleGuE-"
   },
   "source": [
    "### Criando Embeddings"
   ]
  },
  {
   "cell_type": "code",
   "execution_count": null,
   "metadata": {
    "id": "EKj9IWGTGOyR"
   },
   "outputs": [],
   "source": [
    "# Transformando os documentos dos animais em embeddings\n",
    "embeddings = modelo.encode(info_animais, convert_to_numpy=True)"
   ]
  },
  {
   "cell_type": "code",
   "execution_count": null,
   "metadata": {
    "id": "IO0Kme6YGcAF"
   },
   "outputs": [],
   "source": [
    "# Normalizando os embeddings\n",
    "embeddings = embeddings / np.linalg.norm(embeddings, axis=1, keepdims=True)"
   ]
  },
  {
   "cell_type": "code",
   "execution_count": null,
   "metadata": {
    "colab": {
     "base_uri": "https://localhost:8080/"
    },
    "id": "mKXa-TkqRYAR",
    "outputId": "5eb7a71c-a901-467f-b034-16ba5c1a2f5d"
   },
   "outputs": [],
   "source": [
    "print(embeddings)  # Cada embedding é um vetor de 384 dimensões"
   ]
  },
  {
   "cell_type": "markdown",
   "metadata": {
    "id": "LG6gpU70GrRr"
   },
   "source": [
    "### Criando Índice no FAISS"
   ]
  },
  {
   "cell_type": "code",
   "execution_count": null,
   "metadata": {
    "id": "NruSB3bxG2QL"
   },
   "outputs": [],
   "source": [
    "dimensoes = embeddings.shape[1]\n",
    "index = faiss.IndexFlatIP(dimensoes)\n",
    "index.add(embeddings)"
   ]
  },
  {
   "cell_type": "code",
   "execution_count": null,
   "metadata": {
    "colab": {
     "base_uri": "https://localhost:8080/"
    },
    "id": "Q15XA2BTHf5T",
    "outputId": "a9fc8ef8-4fa0-4f9b-bfdf-835a66cea279"
   },
   "outputs": [],
   "source": [
    "# Cada item no index é um vetor numérico:\n",
    "print(index.reconstruct(0))"
   ]
  },
  {
   "cell_type": "markdown",
   "metadata": {
    "id": "hbGa3dhnHGBD"
   },
   "source": [
    "## Consulta no Banco"
   ]
  },
  {
   "cell_type": "markdown",
   "metadata": {
    "id": "aJbBgG-FJ-Ko"
   },
   "source": [
    "### Consulta Inicial"
   ]
  },
  {
   "cell_type": "code",
   "execution_count": null,
   "metadata": {
    "id": "gPevmdFJHL_a"
   },
   "outputs": [],
   "source": [
    "# O que quero encontrar no banco?\n",
    "query = \"Felinos nativos e seus detalhes\""
   ]
  },
  {
   "cell_type": "code",
   "execution_count": null,
   "metadata": {
    "id": "-dvISOuzHYuq"
   },
   "outputs": [],
   "source": [
    "# Criando Embedding e Normalizando a Query\n",
    "query_embedding = modelo.encode([query], convert_to_numpy=True)\n",
    "query_embedding = query_embedding / np.linalg.norm(\n",
    "    query_embedding, axis=1, keepdims=True\n",
    ")"
   ]
  },
  {
   "cell_type": "code",
   "execution_count": null,
   "metadata": {
    "colab": {
     "base_uri": "https://localhost:8080/"
    },
    "id": "FSfQ6YPtYvzR",
    "outputId": "3c0b76a7-7a05-41d8-a4f3-c99420de4f03"
   },
   "outputs": [],
   "source": [
    "print(query_embedding)"
   ]
  },
  {
   "cell_type": "code",
   "execution_count": null,
   "metadata": {
    "colab": {
     "base_uri": "https://localhost:8080/"
    },
    "id": "XElhlsuhHfD6",
    "outputId": "354b296b-2064-43a0-a0e1-02e83830d358"
   },
   "outputs": [],
   "source": [
    "# Procurando nos registros do banco qual mais se assemelham à query\n",
    "k = 10\n",
    "D, I = index.search(query_embedding, k)  # Procura os top k  # noqa: E741\n",
    "print(D, I)  # D = semelhança, I = índice"
   ]
  },
  {
   "cell_type": "code",
   "execution_count": null,
   "metadata": {
    "colab": {
     "base_uri": "https://localhost:8080/"
    },
    "id": "paw2s6adJr5G",
    "outputId": "3bb265a0-9669-4a34-b94c-3b02b77e97d5"
   },
   "outputs": [],
   "source": [
    "# Mostrando resultados iniciais\n",
    "for semelhanca, indice in zip(D[0], I[0]):\n",
    "    print(f\"Item {indice} ({semelhanca:.3f}) - {info_animais[indice]}\")"
   ]
  },
  {
   "cell_type": "markdown",
   "metadata": {
    "id": "BE-wEnbNKl1F"
   },
   "source": [
    "### Filtragem Híbrida\n",
    "Utilizando os metadados para obter melhores resultados."
   ]
  },
  {
   "cell_type": "code",
   "execution_count": null,
   "metadata": {
    "id": "tgTOZKBtLEF_"
   },
   "outputs": [],
   "source": [
    "# Filtrando somente aqueles que tem pelos\n",
    "candidatos = []\n",
    "for indice, semelhanca in zip(I[0], D[0]):\n",
    "    metadados = metadados_animais[indice]\n",
    "    if metadados[\"cobertura\"] == \"pelo\":\n",
    "        candidatos.append((indice, semelhanca))"
   ]
  },
  {
   "cell_type": "code",
   "execution_count": null,
   "metadata": {
    "colab": {
     "base_uri": "https://localhost:8080/"
    },
    "id": "9KZqeo8dMPAm",
    "outputId": "28392776-0d99-4a9f-d7be-6d236cae34f4"
   },
   "outputs": [],
   "source": [
    "# Mostrando resultados após filtragem híbrida\n",
    "for indice, semelhanca in candidatos:\n",
    "    print(f\"Item {indice} ({semelhanca:.3f}) - {info_animais[indice]}\")"
   ]
  },
  {
   "cell_type": "markdown",
   "metadata": {
    "id": "KSwL32UvM4d4"
   },
   "source": [
    "### Re-rank"
   ]
  },
  {
   "cell_type": "code",
   "execution_count": null,
   "metadata": {
    "id": "HLELMP_MNNaQ"
   },
   "outputs": [],
   "source": [
    "# Criando os pares consulta/info do animal\n",
    "pares = [[query, info_animais[indice]] for indice, semelhanca in candidatos]"
   ]
  },
  {
   "cell_type": "code",
   "execution_count": null,
   "metadata": {
    "id": "-G_CtT7NN1Zb"
   },
   "outputs": [],
   "source": [
    "# Fazendo o cross-encoding\n",
    "resultados_cross = cross_encoder.predict(pares)"
   ]
  },
  {
   "cell_type": "code",
   "execution_count": null,
   "metadata": {
    "colab": {
     "base_uri": "https://localhost:8080/"
    },
    "id": "mo62ah9jOCTB",
    "outputId": "958e41ce-1cd5-49a5-9e84-4464be05da15"
   },
   "outputs": [],
   "source": [
    "print(resultados_cross)  # Para cada índice nos candidatos, mostra o score"
   ]
  },
  {
   "cell_type": "code",
   "execution_count": null,
   "metadata": {
    "id": "02DXF-s9OIbi"
   },
   "outputs": [],
   "source": [
    "# Combinando índices, score do FAISS e score do Cross-Encoder\n",
    "resultados = []\n",
    "for (indice, faiss_score), cross_score in zip(candidatos, resultados_cross):\n",
    "    resultados.append(\n",
    "        {\n",
    "            \"indice\": indice,\n",
    "            \"faiss\": faiss_score,\n",
    "            \"cross\": cross_score,\n",
    "            \"info\": info_animais[indice],\n",
    "        }\n",
    "    )"
   ]
  },
  {
   "cell_type": "code",
   "execution_count": null,
   "metadata": {
    "id": "7rodFahGPkFK"
   },
   "outputs": [],
   "source": [
    "# Ordenando os resultados\n",
    "resultados.sort(key=lambda x: x[\"cross\"], reverse=True)  # por cross, decrescente"
   ]
  },
  {
   "cell_type": "code",
   "execution_count": null,
   "metadata": {
    "colab": {
     "base_uri": "https://localhost:8080/"
    },
    "id": "dKH94NYjPlIa",
    "outputId": "15e4c84d-b6c7-4361-8441-dff29b6f9b4f"
   },
   "outputs": [],
   "source": [
    "# Mostrando o resultado final\n",
    "print(\"Top 5 Felinos Após Re-Rank:\")\n",
    "for r in resultados[:5]:\n",
    "    print(f\"Item {r['indice']} ({r['cross']:.3f}) - {r['info']}\")"
   ]
  },
  {
   "cell_type": "markdown",
   "metadata": {
    "id": "wJDx5OzyQKbU"
   },
   "source": [
    "Os top 5 foram exatamente os 5 felinos. :)"
   ]
  }
 ],
 "metadata": {
  "colab": {
   "provenance": [],
   "toc_visible": true
  },
  "kernelspec": {
   "display_name": "Python 3",
   "name": "python3"
  },
  "language_info": {
   "name": "python"
  }
 },
 "nbformat": 4,
 "nbformat_minor": 0
}
